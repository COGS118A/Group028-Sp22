{
 "cells": [
  {
   "cell_type": "markdown",
   "metadata": {},
   "source": [
    "# COGS 118A- Project Proposal"
   ]
  },
  {
   "cell_type": "markdown",
   "metadata": {},
   "source": [
    "### Peer Review\n",
    "\n",
    "You will all have an opportunity to look at the Project Proposals of other groups to fuel your creativity and get more ideas for how you can improve your own projects. \n",
    "\n",
    "Both the project proposal and project checkpoint will have peer review."
   ]
  },
  {
   "cell_type": "markdown",
   "metadata": {},
   "source": [
    "# Names\n",
    "\n",
    "Hopefully your team is at least this good. Obviously you should replace these with your names.\n",
    "\n",
    "- Khalid Ade\n",
    "- Pablo Moreno\n",
    "- Sujay Srinivasan\n",
    "- Daniel Vega Lojo\n",
    "- Jared Chen"
   ]
  },
  {
   "cell_type": "markdown",
   "metadata": {},
   "source": [
    "# Abstract \n",
    "\n",
    "Association Football (or soccer) is a worldwide sport played by over 250 million players in over 250 countries<sup><a name=\"note-assoc-football\" href=\"#assoc-football\">[1]</a></sup>.  In fact, football is the world’s sport, and the most popular across the globe in terms of fans as well. Football has a huge transfer market in which players are transferred across teams for up to hundreds of millions of euros. To put the amount of money that circulates in the global football market into perspective, squad values of top teams like Manchester United surpass billions of euros<sup><a name=\"note-transfermarkt-value-how\" href=\"#transfermarkt-value-how\">[2]</a></sup>. The market value of a player accounts for a huge role in how teams conduct their business in regards to transfers. Our goal is to help these clubs make the right investments in players they want to obtain, especially when spending huge amounts of money. More specifically, we want to accurately predict the market value of players so that clubs aren’t overpaying, or underselling their valued players. Plenty of factors play a role in determining the market value of a player. The most important factors include age, performance for club and national team (measured in stats such as goals, assists, tackles etc.) for a player in that position, experience(measured by number of seasons in top leagues), marketing value (measured by social media presence), and injury vulnerability<sup><a name=\"note-transfermarkt-value-how\" href=\"#transfermarkt-value-how\">[2]</a></sup>. "
   ]
  },
  {
   "cell_type": "markdown",
   "metadata": {},
   "source": [
    "# Background\n",
    "\n",
    "The global football transfer market involves the circulation of billions of euros. Many top European clubs have spent hundreds of millions of dollars to bolster their respective teams. For example teams like Manchester United, Manchester City, and PSG have spent almost billions of euros to sign players to help their teams’ success in their respective leagues and on the European stage<sup><a name=\"note-man-utd\" href=\"#man-utd\">[6]</a></sup>. There is no doubt that decisions involving huge sums of such money should be carefully analyzed so that clubs can maximize success in both the business side as well as the performance side of their respective clubs. Transfermarkt is an online platform for transfers, market values, rumors, and stats. The business model consists of, in addition to sports journalistic reporting, the profiles of the players and discussion forums on the performance and market values of individual soccer players, teams and leagues<sup><a name=\"note-ackermann-follert-etal\" href=\"#ackermann-follert-etal\">[4]</a></sup>. Frequently being discussed in sports science and sports economics literature over the past few years, the so-called \"market values\" („Marktwerte“) have so far seemed to become the center of media attention. Numerous studies have shown positive correlations between the predicted market values on Transfermarkt and the actual player income. It’s reportedly known that players who are in contract negotiations would sometimes refer to Transfermarkt values as baselines for their salary expectations<sup><a name=\"note-ackermann-follert-etal\" href=\"#ackermann-follert-etal\">[4]</a></sup>.  The “market values” can also be used as a measure of marketability; a higher marketability helps a player secure partnerships through sponsorship contracts. The age and performance statistics on Transfermarkt are also particularly useful in that player observers can identify young players and predict the development opportunities<sup><a name=\"note-ackermann-follert-etal\" href=\"#ackermann-follert-etal\">[4]</a></sup>. \n",
    "\n",
    "The open forums of Transfermarkt allow users to discuss and predict individual players’ market values and performance. Previous studies on collective intelligence<sup><a name=\"note-transfermarkt-value-how\" href=\"#transfermarkt-value-how\">[2]</a></sup> have used OLS regression models to evaluate the accuracy of predictions. It is shown that “forecasts of international soccer results based on the crowd’s valuations are more accurate than those based on standard predictors.”<sup><a name=\"note-peeters\" href=\"#peeters\">[3]</a></sup> This reveals a potential possibility that distributed intelligence is a contributing factor to the accuracy of predictions. We want to know if supervised machine learning algorithms, as another form of distributed intelligence, can make accurate predictions just as humans do. More particularly, we want to use machine learning models like OLS to predict market value of players across the football world. "
   ]
  },
  {
   "cell_type": "markdown",
   "metadata": {},
   "source": [
    "# Problem Statement\n",
    "\n",
    "Given the considerable number of players in football across the globe, it can get tedious to know which players have potential and are worth investing in. Do they have high performance for a player in their position? Are they playing for a renowned club or in a renowned league? Is their behavior respectable and are they marketable? These are the kinds of questions top clubs use when considering paying the big bucks for players. Our task is to identify the market value of players in global football using ML techniques such as least square regression and decision trees.  "
   ]
  },
  {
   "cell_type": "markdown",
   "metadata": {},
   "source": [
    "# Data\n",
    "\n",
    "The dataset is composed of 7 different subsets, we will be using 4 of the datasets. Since each feature resides in different sets. <sup><a name=\"note-cariboo\" href=\"#cariboo\">[7]</a></sup> \n",
    "\n",
    "- `Appearances.csv`\n",
    "    - Player ID, Game ID, Appearance ID, Competition ID, Player club ID, Assist, Minutes Played, Yellow cards, Red Cards\n",
    "- `Clubs.csv `\n",
    "    - Club ID, Name, Pretty_name, Domestic_competition_id, Total_market_value, Squad_size, Average_age, Foreigners_numbers, Foreigners_percentage, National_team_players, Stadium_name, Stadium_seats, Net_transfer_record, Coach_name, URL\n",
    "- `Competitions.csv`\n",
    "    - Competition_id, Name, type, country_id, country_name, domestic_league_code, confederation, URL.  \n",
    "- `Games.csv` \n",
    "    - Game_id, Competition_code, Season, Round, Date, Home_club_id, Away_club_id, Home_club_goals, away_club_goals, Home_club_postions, Away_club_postion, Stadium, Attendance, Referee, URL \n",
    "- `Leagues.csv` \n",
    "    - League_id, name, Confederation\n",
    "- `Player_valuations.csv` \n",
    "    - Player_id, Date, Market_value\n",
    "- `Players.csv`\n",
    "    - Player_id, Last_season, Current_club_id, Name, Pretty_name, country_of_birth, Country_of_citizenship, Date_of_birth, Position, Sub_position, Foot, Height_in_cm, Market_value_in_gbp, Highest_market_value_in_gbp, URL\n",
    "\n",
    "- _What an observation consists of_: We are trying to use the variables we assume to be the most important and independent from each other. We decided on \n",
    "    - Club, Nationality, League, Appearances, Minutes, Goals, Assist, Age, Conduct, Media Presence, Years Played, Trophies, Experience, Position, Physicality, Potential. \n",
    "- _What some critical variables are, how they are represented_: We want variables which have the highest co-variance with each other. The metric should handle most features as unique features. \n",
    "- _Any special handling, transformations, cleaning, etc will be needed_: There will be club names, and probably inferences in our data. Such as Media Presence or Potential, these are metrics which can be objective to the person. How popular is the player that we are analyzing? \n",
    "\n",
    "We are still going to be in search of more databases that might have different descriptive data that we might like to see how organizations search for talent. We can use what they might describe as their most sought out characteristics. \n",
    "\n",
    "For Simplicity we can also assume that all players have no contracts for their evaluation and are based solely on performance and the other variables mentioned."
   ]
  },
  {
   "cell_type": "markdown",
   "metadata": {},
   "source": [
    "# Proposed Solution\n",
    "\n",
    "Packages: \n",
    "- `sklearn` (scikit-learn)\n",
    "- `tensorflow` (TensorFlow)\n",
    "- Least square regression: `numpy.linalg.lstsq`\n",
    "\n",
    "We believe that we can take the characteristics football clubs may regard to be the most important in the dataset and use those features to evaluate players. Those can be our core information in order to use regression analysis. If able to determine a certain cluster for the data set depending on the position and attributes. We can compare the players in the data set with the new data. We will be using OLS (Ordinary Least Squares).  \n",
    "\n",
    "We have to start with the most important step which is data cleaning and EDA analysis in order to get more accurate results, Matrix transformation with the numpy library. In order to increase covariance with variables, we can use dimension reduction techniques. Next we can normalize the data sets in order to not get skewed by one particular feature. Dealing with values missing or if we need to have numeric values for non-numeric data (i.e popularity, health, position).\n",
    "\n",
    "Our comparison of errors will be coming from the Transfermrket.com website as it is updated everyday to evaluate different players. We can get the player’s information to get a percent error or a total error for our evaluations. If we can, we will use the RMSE (Root mean square error) or Mean Absolute Values of our model prediction."
   ]
  },
  {
   "cell_type": "markdown",
   "metadata": {},
   "source": [
    "# Evaluation Metrics\n",
    "\n",
    "We will be using an OLS regression model and the evaluation techniques we are considering are RMSE and Euclidean distance.\n",
    "A possible evaluation metric we will use is RMSE or Mean Absolute Value of Errors. It is derived by calculating the difference between the estimated and actual value, square those results, then calculate the mean of those results. The formula for RMSE is \n",
    "\n",
    "$$\n",
    "    \\text{RMSE} = \\sqrt{\\frac{\\sum_{i = 1}^{N}\\left(\\text{Predicted}_{i} - \\text{Actual}_{i}\\right)^{2}}{N}}\n",
    "$$\n",
    "\n",
    "The formula for Euclidean Distance is \n",
    "$$\n",
    "    d(p, q)={\\sqrt{(q_{1} - p_{1})^{2} + (q_{2} - p_{2})^{2}}}\n",
    "$$\n",
    "\n",
    "And it allows us to find the distance between two points which will give us the similarity of the two points.\n"
   ]
  },
  {
   "cell_type": "markdown",
   "metadata": {},
   "source": [
    "# Ethics & Privacy"
   ]
  },
  {
   "cell_type": "markdown",
   "metadata": {},
   "source": [
    "Since our data is readily available to the public and conforms to the privacy policy of the sourcing website Transfermarkt, we believe our research will not be subject to immediate concerns with neither ethics nor data privacy. Variables include `name`/`pretty_name` (name), `country_of_birth`/`country_of_citizenship` (nationality), `date_of_birth` (age) might be potentially relevant but are in no way detrimental to the ethics of our research. However, we do believe that the result of our research, once obtained and made public, could have unintended consequences. We evaluate a player's performance solely based on historical data; this implies that there will be biases. It is reasonable to expect that those biases, if not addressed and handled properly, could cause permanent damage to a person’s career. \n",
    "For instance, if a reliable player’s record shows that the player is unreliable, then team recruiters would use that information to make an informed decision based on false information. To prevent the chance of this being a consequence, we will put a disclaimer regarding the features that were not used in the evaluation of a player’s value. If a problem such as this comes up, we will remove said player's data from the study and make an effort to find and use the accurate data for each player. "
   ]
  },
  {
   "cell_type": "markdown",
   "metadata": {},
   "source": [
    "# Team Expectations "
   ]
  },
  {
   "cell_type": "markdown",
   "metadata": {},
   "source": [
    "- Show up to meetings on time and actively participate\n",
    "- Handle conflict and difficulty professionally\n",
    "- Make constructive decisions and criticisms\n",
    "- Work on a timely manner and complete individual responsibility according to the schedule\n",
    "- Work collaboratively and inclusively with all team members\n",
    "- Communicate with the whole team regularly to finalize ideas"
   ]
  },
  {
   "cell_type": "markdown",
   "metadata": {},
   "source": [
    "# Project Timeline Proposal"
   ]
  },
  {
   "cell_type": "markdown",
   "metadata": {},
   "source": [
    "| Meeting Date | Meeting Time | Completed Before Meeting | Discuss at Meeting |\n",
    "|:---:|:---:|:---:|:---:|\n",
    "| 4/22 | 3:30 PM | Brainstorm topics/questions (all) | Determine best form of communication; Discuss and decide on final project topic; which dataset would be most ideal, discuss hypothesis; begin background research. |\n",
    "|  4/24 | 3:30 PM | Complete Draft for Proposal | Finish Proposal. Discussion on potential ML techniques. Submit Proposal. |\n",
    "| 4/27 | 3 PM | Do background research on topic  | Discuss ideal dataset(s) and ethics; draft project proposal |\n",
    "| 5/2 | 3 PM | Edit, finalize, and submit proposal; Search for datasets  | Discuss Wrangling and possible analytical approaches; Assign group members to lead each specific part |\n",
    "| 5/13 | 3 PM | Import & Wrangle Data ,do some EDA  | Review/Edit wrangling/EDA; Discuss Analysis Plan |\n",
    "| 5/20 | 3 PM | Import & Wrangle Data ,do some EDA  | Review/Edit wrangling/EDA; Discuss Analysis Plan |\n",
    "| 5/25 | 3 PM | Finalize wrangling/EDA; Begin programming for project  | Discuss/edit project code; Complete project |\n",
    "| 5/30 | 3 PM | Complete analysis; Draft results/conclusion/discussion  | Discuss/edit full project |\n",
    "| 6/8 | Before 11:59 PM | N/A | Turn in Final Project |"
   ]
  },
  {
   "cell_type": "markdown",
   "metadata": {},
   "source": [
    "# Footnotes\n",
    "\n",
    "<sup><a name=\"assoc-football\" href=\"#note-assoc-football\">1</a></sup> Wikipedia contributors. (2022, April 24). *Association football.* Wikipedia. https://en.wikipedia.org/wiki/Association_football\n",
    "\n",
    "<sup><a name=\"transfermarkt-value-how\" href=\"#note-transfermarkt-value-how\">2</a></sup> Biswas, B. (2021, July 16). Transfermarkt Market Value explained - How is it determined? *Transfermarkt.* https://www.transfermarkt.co.in/transfermarkt-market-value-explained-how-is-it-determined-/view/news/385100\n",
    "\n",
    "<sup><a name=\"peeters\" href=\"#note-peeters\">3</a></sup> Peeters, T. (2018). Testing the Wisdom of Crowds in the field: Transfermarkt valuations and international soccer results. *International Journal of Forecasting*, 34(1), 17–29. https://doi.org/10.1016/j.ijforecast.2017.08.002\n",
    "\n",
    "<sup><a name=\"ackermann-follert-etal\" href=\"#note-ackermann-follert-etal\">4</a></sup>\n",
    "Ackermann, P., & Follert, F. (2018). *Einige bewertungstheoretische Anmerkungen zur Marktwertanalyse der Plattform transfermarkt.de.* doi:10.22028/D291-32113\n",
    "\n",
    "<sup><a name=\"transfermarkt-de\" href=\"#note-transfermarkt-de\">5</a></sup> Transfermarkt. (2000, May). *Fußball-Transfers, Gerüchte, Marktwerte und News.* https://www.transfermarkt.de/\n",
    "\n",
    "<sup><a name=\"man-utd\" href=\"#note-man-utd\">6</a></sup> Summerscales, R. (2022, February 7). Man Utd, Man City And PSG Have Each Spent Over $1Billion Net On Transfers In 10 Years. *Futbol on FanNation.* https://www.si.com/fannation/soccer/futbol/news/man-utd-city-and-psg-spend-over-1b-net-on-transfers-in-10-years\n",
    "\n",
    "<sup><a name=\"cariboo\" href=\"#note-cariboo\">7</a></sup> *Football Data from Transfermarkt.* (2022, April 22). [Dataset]. https://www.kaggle.com/datasets/davidcariboo/player-scores"
   ]
  }
 ],
 "metadata": {
  "kernelspec": {
   "display_name": "Python 3 (ipykernel)",
   "language": "python",
   "name": "python3"
  },
  "language_info": {
   "codemirror_mode": {
    "name": "ipython",
    "version": 3
   },
   "file_extension": ".py",
   "mimetype": "text/x-python",
   "name": "python",
   "nbconvert_exporter": "python",
   "pygments_lexer": "ipython3",
   "version": "3.7.8"
  }
 },
 "nbformat": 4,
 "nbformat_minor": 4
}
